{
 "cells": [
  {
   "cell_type": "code",
   "execution_count": null,
   "metadata": {
    "colab": {
     "base_uri": "https://localhost:8080/"
    },
    "executionInfo": {
     "elapsed": 33341,
     "status": "ok",
     "timestamp": 1739096286847,
     "user": {
      "displayName": "Antonella Polesel",
      "userId": "07521743323686145660"
     },
     "user_tz": 0
    },
    "id": "uPzmL7cpvguq",
    "outputId": "1bd0fa33-170a-4f68-ca37-a4739c114430"
   },
   "outputs": [],
   "source": [
    "pip install annoy\n",
    "pip install Pillow\n",
    "pip install matplotlib \n",
    "pip install opencv-python \n",
    "pip install scikit-image \n",
    "pip install numpy "
   ]
  },
  {
   "cell_type": "code",
   "execution_count": null,
   "metadata": {
    "executionInfo": {
     "elapsed": 216,
     "status": "ok",
     "timestamp": 1739096339299,
     "user": {
      "displayName": "Antonella Polesel",
      "userId": "07521743323686145660"
     },
     "user_tz": 0
    },
    "id": "NKO7PpxjvbsC"
   },
   "outputs": [],
   "source": [
    "import os\n",
    "import cv2\n",
    "import numpy as np\n",
    "from annoy import AnnoyIndex\n",
    "from skimage.metrics import structural_similarity as ssim\n",
    "from PIL import Image\n",
    "import matplotlib.pyplot as plt\n",
    "from itertools import combinations\n",
    "from sklearn.cluster import DBSCAN\n",
    "from sklearn.decomposition import PCA"
   ]
  },
  {
   "cell_type": "markdown",
   "metadata": {
    "id": "55N-N5x_vbsD"
   },
   "source": [
    "## COMPUTE SIMILARITY AMONG CHOSEN IMAGES"
   ]
  },
  {
   "cell_type": "code",
   "execution_count": null,
   "metadata": {
    "executionInfo": {
     "elapsed": 43,
     "status": "ok",
     "timestamp": 1739096526135,
     "user": {
      "displayName": "Antonella Polesel",
      "userId": "07521743323686145660"
     },
     "user_tz": 0
    },
    "id": "0_mkrRWwvbsE"
   },
   "outputs": [],
   "source": [
    "# Folder path\n",
    "FOLDER_PATH = \"/Users/name/Downloads/images\""
   ]
  },
  {
   "cell_type": "code",
   "execution_count": null,
   "metadata": {
    "executionInfo": {
     "elapsed": 6,
     "status": "ok",
     "timestamp": 1739096527899,
     "user": {
      "displayName": "Antonella Polesel",
      "userId": "07521743323686145660"
     },
     "user_tz": 0
    },
    "id": "vkFuhNZ5vbsE"
   },
   "outputs": [],
   "source": [
    "# Resize images (200x200 pixels)\n",
    "IMAGE_SIZE = (200, 200)"
   ]
  },
  {
   "cell_type": "code",
   "execution_count": null,
   "metadata": {
    "executionInfo": {
     "elapsed": 6,
     "status": "ok",
     "timestamp": 1739096528932,
     "user": {
      "displayName": "Antonella Polesel",
      "userId": "07521743323686145660"
     },
     "user_tz": 0
    },
    "id": "4HQKFE7uvbsE"
   },
   "outputs": [],
   "source": [
    "# ORB feature extractor\n",
    "orb = cv2.ORB_create(nfeatures=1000)"
   ]
  },
  {
   "cell_type": "code",
   "execution_count": null,
   "metadata": {
    "executionInfo": {
     "elapsed": 6,
     "status": "ok",
     "timestamp": 1739096531308,
     "user": {
      "displayName": "Antonella Polesel",
      "userId": "07521743323686145660"
     },
     "user_tz": 0
    },
    "id": "QtBCjv38vbsE"
   },
   "outputs": [],
   "source": [
    "# Function to compute ORB descriptors\n",
    "def get_orb_features(image_path):\n",
    "    image = cv2.imread(image_path, cv2.IMREAD_GRAYSCALE)\n",
    "    if image is None:\n",
    "        return None\n",
    "    image = cv2.resize(image, IMAGE_SIZE)\n",
    "    keypoints, descriptors = orb.detectAndCompute(image, None)\n",
    "    if descriptors is None:\n",
    "        return None\n",
    "    return descriptors.flatten()[:128]"
   ]
  },
  {
   "cell_type": "code",
   "execution_count": null,
   "metadata": {
    "executionInfo": {
     "elapsed": 6,
     "status": "ok",
     "timestamp": 1739096532933,
     "user": {
      "displayName": "Antonella Polesel",
      "userId": "07521743323686145660"
     },
     "user_tz": 0
    },
    "id": "1TIwz1GFvbsE"
   },
   "outputs": [],
   "source": [
    "# Function to compute pHash\n",
    "def get_phash(image_path):\n",
    "    image = Image.open(image_path).convert(\"L\").resize((8, 8))\n",
    "    pixels = np.array(image)\n",
    "    dct = cv2.dct(np.float32(pixels))\n",
    "    median = np.median(dct)\n",
    "    return \"\".join([\"1\" if px > median else \"0\" for row in dct for px in row])\n"
   ]
  },
  {
   "cell_type": "code",
   "execution_count": null,
   "metadata": {
    "executionInfo": {
     "elapsed": 172534,
     "status": "ok",
     "timestamp": 1739096708028,
     "user": {
      "displayName": "Antonella Polesel",
      "userId": "07521743323686145660"
     },
     "user_tz": 0
    },
    "id": "cCfKS5LPvbsE"
   },
   "outputs": [],
   "source": [
    "# Load images and extract features\n",
    "image_paths = [os.path.join(FOLDER_PATH, f) for f in os.listdir(FOLDER_PATH) if f.endswith(('.png', '.jpg', '.jpeg'))]\n",
    "image_features = {}\n",
    "image_hashes = {}\n",
    "\n",
    "for img_path in image_paths:\n",
    "    orb_feat = get_orb_features(img_path)\n",
    "    if orb_feat is not None:\n",
    "        image_features[img_path] = orb_feat\n",
    "    image_hashes[img_path] = get_phash(img_path)"
   ]
  },
  {
   "cell_type": "code",
   "execution_count": null,
   "metadata": {
    "colab": {
     "base_uri": "https://localhost:8080/"
    },
    "executionInfo": {
     "elapsed": 57,
     "status": "ok",
     "timestamp": 1739096900392,
     "user": {
      "displayName": "Antonella Polesel",
      "userId": "07521743323686145660"
     },
     "user_tz": 0
    },
    "id": "OzADWbXovbsF",
    "outputId": "89b1f8bf-98d1-46f2-d418-07e097035759"
   },
   "outputs": [],
   "source": [
    "# Build Annoy index for similarity search\n",
    "feature_dim = 128 \n",
    "annoy_index = AnnoyIndex(feature_dim, metric='euclidean')\n",
    "\n",
    "for i, (img_path, feat) in enumerate(image_features.items()):\n",
    "    annoy_index.add_item(i, feat)\n",
    "\n",
    "annoy_index.build(10)"
   ]
  },
  {
   "cell_type": "code",
   "execution_count": null,
   "metadata": {
    "executionInfo": {
     "elapsed": 5,
     "status": "ok",
     "timestamp": 1739096902737,
     "user": {
      "displayName": "Antonella Polesel",
      "userId": "07521743323686145660"
     },
     "user_tz": 0
    },
    "id": "Li4QCEgovbsF"
   },
   "outputs": [],
   "source": [
    "# Find similar images\n",
    "def find_similar_images(img_path, top_n=5):\n",
    "    if img_path not in image_features:\n",
    "        return []\n",
    "\n",
    "    vector = image_features[img_path]\n",
    "    indices = annoy_index.get_nns_by_vector(vector, top_n + 1)[1:]  # Exclude itself\n",
    "    similar_images = [list(image_features.keys())[idx] for idx in indices]\n",
    "\n",
    "    # Filter by pHash\n",
    "    phash_query = image_hashes[img_path]\n",
    "    final_matches = []\n",
    "    for sim_img in similar_images:\n",
    "        phash_sim = sum(1 for a, b in zip(phash_query, image_hashes[sim_img]) if a == b) / 64\n",
    "        if phash_sim > 0.50:\n",
    "            final_matches.append(sim_img)\n",
    "\n",
    "    return final_matches"
   ]
  },
  {
   "cell_type": "code",
   "execution_count": null,
   "metadata": {
    "colab": {
     "base_uri": "https://localhost:8080/"
    },
    "executionInfo": {
     "elapsed": 26,
     "status": "ok",
     "timestamp": 1739097097754,
     "user": {
      "displayName": "Antonella Polesel",
      "userId": "07521743323686145660"
     },
     "user_tz": 0
    },
    "id": "HTB7ub_MvbsF",
    "outputId": "926f7937-393c-44c1-a303-56ba405d1953"
   },
   "outputs": [],
   "source": [
    "# Example: Find similar images for a sample image\n",
    "sample_image = image_paths[15]\n",
    "similar_images = find_similar_images(sample_image, top_n=5)\n",
    "\n",
    "print(f\"Images similar to {sample_image}:\")\n",
    "for img in similar_images:\n",
    "    print(img)"
   ]
  },
  {
   "cell_type": "markdown",
   "metadata": {
    "id": "B3-Ep3-qvbsF"
   },
   "source": [
    "## COMPUTE AVG. SSIM\n",
    "SSIM: Structural closeness between images [-1, 1].\n",
    "\n",
    "Method: Compute SSIM for all image pairs and take the mean SSIM score.\n"
   ]
  },
  {
   "cell_type": "code",
   "execution_count": null,
   "metadata": {
    "id": "qKOguelPvbsF"
   },
   "outputs": [],
   "source": [
    "# Load drawings\n",
    "image_paths = [os.path.join(FOLDER_PATH, f) for f in os.listdir(FOLDER_PATH) if f.endswith(('.png', '.jpg', '.jpeg'))]\n",
    "images = {path: cv2.imread(path) for path in image_paths}"
   ]
  },
  {
   "cell_type": "code",
   "execution_count": null,
   "metadata": {
    "id": "3DcSkmI1vbsF"
   },
   "outputs": [],
   "source": [
    "# Function to compute SSIM\n",
    "def compute_ssim(img1, img2, size=(200, 200)):\n",
    "    img1 = cv2.resize(img1, size) \n",
    "    img2 = cv2.resize(img2, size)\n",
    "    gray1 = cv2.cvtColor(img1, cv2.COLOR_BGR2GRAY)\n",
    "    gray2 = cv2.cvtColor(img2, cv2.COLOR_BGR2GRAY)\n",
    "    return ssim(gray1, gray2)"
   ]
  },
  {
   "cell_type": "code",
   "execution_count": null,
   "metadata": {
    "id": "MVjQ-d0fvbsF",
    "outputId": "067b2fdd-70d7-4e38-8e81-04f9001de765"
   },
   "outputs": [],
   "source": [
    "# Compute SSIM\n",
    "ssim_scores = []\n",
    "for img1_path, img2_path in combinations(images.keys(), 2):\n",
    "    ssim_score = compute_ssim(images[img1_path], images[img2_path])\n",
    "    ssim_scores.append(ssim_score)\n",
    "\n",
    "average_ssim = np.mean(ssim_scores)\n",
    "std_ssim = np.std(ssim_scores)\n",
    "print(f\"Average SSIM: {average_ssim:.4f}\")\n",
    "print(f\"SSIM Standard Deviation: {std_ssim:.4f}\")"
   ]
  },
  {
   "cell_type": "markdown",
   "metadata": {
    "id": "_1nY_EgFvbsF"
   },
   "source": [
    "## COMPUTE DBSCAN CLUSTERS"
   ]
  },
  {
   "cell_type": "code",
   "execution_count": null,
   "metadata": {
    "id": "4gbDww8gvbsG",
    "outputId": "f5c28630-1acc-44b3-8e43-cded4604280a"
   },
   "outputs": [],
   "source": [
    "# Turn ORB feature vectors into a list\n",
    "feature_vectors = list(image_features.values())\n",
    "\n",
    "# Reduce dimensionality with PCA\n",
    "pca = PCA(n_components=10)\n",
    "reduced_features = pca.fit_transform(feature_vectors)\n",
    "\n",
    "# Apply DBSCAN clustering\n",
    "dbscan = DBSCAN(eps=50, min_samples=2).fit(reduced_features)\n",
    "\n",
    "num_clusters = len(set(dbscan.labels_)) - (1 if -1 in dbscan.labels_ else 0)\n",
    "print(f\"Number of Image Clusters: {num_clusters}\")"
   ]
  }
 ],
 "metadata": {
  "colab": {
   "provenance": []
  },
  "kernelspec": {
   "display_name": "Python 3",
   "language": "python",
   "name": "python3"
  },
  "language_info": {
   "codemirror_mode": {
    "name": "ipython",
    "version": 3
   },
   "file_extension": ".py",
   "mimetype": "text/x-python",
   "name": "python",
   "nbconvert_exporter": "python",
   "pygments_lexer": "ipython3",
   "version": "3.13.2"
  }
 },
 "nbformat": 4,
 "nbformat_minor": 0
}
